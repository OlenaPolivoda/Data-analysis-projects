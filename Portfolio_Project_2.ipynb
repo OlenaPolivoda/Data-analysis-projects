{
  "nbformat": 4,
  "nbformat_minor": 0,
  "metadata": {
    "colab": {
      "provenance": [],
      "include_colab_link": true
    },
    "kernelspec": {
      "name": "python3",
      "display_name": "Python 3"
    },
    "language_info": {
      "name": "python"
    }
  },
  "cells": [
    {
      "cell_type": "markdown",
      "metadata": {
        "id": "view-in-github",
        "colab_type": "text"
      },
      "source": [
        "<a href=\"https://colab.research.google.com/github/OlenaPolyvoda/Data-analysis-projects/blob/main/Portfolio_Project_2.ipynb\" target=\"_parent\"><img src=\"https://colab.research.google.com/assets/colab-badge.svg\" alt=\"Open In Colab\"/></a>"
      ]
    },
    {
      "cell_type": "code",
      "source": [
        "from statsmodels.stats.proportion import proportions_ztest\n",
        "import pandas as pd\n",
        "\n",
        "# Визначення метрик\n",
        "metrics = ['add_payment_info', 'add_shipping_info', 'begin_checkout', 'new_account']\n",
        "\n",
        "def build_total_table(df, metrics):\n",
        "    results = []\n",
        "    for test_id in df['test'].unique():\n",
        "        test_df = df[df['test'] == test_id]\n",
        "    for metric in metrics:\n",
        "        filtered = df[df['event_name'].isin([metric, 'session'])]\n",
        "        grouped = filtered.groupby(['test_group', 'event_name'])['value'].sum().unstack(fill_value=0)\n",
        "\n",
        "        if set([1, 2]).issubset(grouped.index):\n",
        "            control = grouped.loc[1]\n",
        "            test = grouped.loc[2]\n",
        "\n",
        "            conv_control = control[metric] / control['session']\n",
        "            conv_test = test[metric] / test['session']\n",
        "            change = (conv_test - conv_control) / conv_control * 100\n",
        "\n",
        "            stat, pval = proportions_ztest([test[metric], control[metric]],\n",
        "                                           [test['session'], control['session']])\n",
        "\n",
        "            results.append({\n",
        "                'test_id': test_id,\n",
        "                'metric': metric,\n",
        "                'numerator_control': int(control[metric]),\n",
        "                'denominator_control': int(control['session']),\n",
        "                'conversion_rate_control': conv_control,\n",
        "                'numerator_test': int(test[metric]),\n",
        "                'denominator_test': int(test['session']),\n",
        "                'conversion_rate_test': conv_test,\n",
        "                'metric_change_%': change,\n",
        "                'z_stat': stat,\n",
        "                'p_value': pval,\n",
        "                'significant': pval < 0.05})\n",
        "    return pd.DataFrame(results)\n",
        "\n",
        "# Виклик функції\n",
        "df = pd.read_csv(\"/портфоліо 2.csv\")\n",
        "result_df = build_total_table(df, metrics)\n",
        "print(result_df)"
      ],
      "metadata": {
        "id": "2N8iwNHsz3hH",
        "colab": {
          "base_uri": "https://localhost:8080/"
        },
        "outputId": "e8073a26-2d8b-45ee-b341-b3e790b0a71c"
      },
      "execution_count": null,
      "outputs": [
        {
          "output_type": "stream",
          "name": "stdout",
          "text": [
            "   test_id             metric  numerator_control  denominator_control  \\\n",
            "0        3   add_payment_info              11686               271125   \n",
            "1        3  add_shipping_info              16940               271125   \n",
            "2        3     begin_checkout              30133               271125   \n",
            "3        3        new_account              22828               271125   \n",
            "\n",
            "   conversion_rate_control  numerator_test  denominator_test  \\\n",
            "0                 0.043102           11936            271017   \n",
            "1                 0.062480           16875            271017   \n",
            "2                 0.111141           29865            271017   \n",
            "3                 0.084197           22374            271017   \n",
            "\n",
            "   conversion_rate_test  metric_change_%    z_stat   p_value  significant  \n",
            "0              0.044042         2.180014  1.694549  0.090161        False  \n",
            "1              0.062265        -0.344010 -0.327211  0.743508        False  \n",
            "2              0.110196        -0.849895 -1.108462  0.267662        False  \n",
            "3              0.082556        -1.949728 -2.186156  0.028804         True  \n"
          ]
        }
      ]
    },
    {
      "cell_type": "code",
      "source": [
        "from google.colab import files\n",
        "result_df.to_csv(\"metrics_total.csv\", index=False)\n",
        "df.to_csv('output.csv', index=False, encoding='utf-8')\n",
        "files.download(\"metrics_total.csv\")"
      ],
      "metadata": {
        "colab": {
          "base_uri": "https://localhost:8080/",
          "height": 17
        },
        "id": "O7fgOlr5nFfT",
        "outputId": "a6fd4def-d59d-44f9-af3b-1dd13f927bd3"
      },
      "execution_count": null,
      "outputs": [
        {
          "output_type": "display_data",
          "data": {
            "text/plain": [
              "<IPython.core.display.Javascript object>"
            ],
            "application/javascript": [
              "\n",
              "    async function download(id, filename, size) {\n",
              "      if (!google.colab.kernel.accessAllowed) {\n",
              "        return;\n",
              "      }\n",
              "      const div = document.createElement('div');\n",
              "      const label = document.createElement('label');\n",
              "      label.textContent = `Downloading \"${filename}\": `;\n",
              "      div.appendChild(label);\n",
              "      const progress = document.createElement('progress');\n",
              "      progress.max = size;\n",
              "      div.appendChild(progress);\n",
              "      document.body.appendChild(div);\n",
              "\n",
              "      const buffers = [];\n",
              "      let downloaded = 0;\n",
              "\n",
              "      const channel = await google.colab.kernel.comms.open(id);\n",
              "      // Send a message to notify the kernel that we're ready.\n",
              "      channel.send({})\n",
              "\n",
              "      for await (const message of channel.messages) {\n",
              "        // Send a message to notify the kernel that we're ready.\n",
              "        channel.send({})\n",
              "        if (message.buffers) {\n",
              "          for (const buffer of message.buffers) {\n",
              "            buffers.push(buffer);\n",
              "            downloaded += buffer.byteLength;\n",
              "            progress.value = downloaded;\n",
              "          }\n",
              "        }\n",
              "      }\n",
              "      const blob = new Blob(buffers, {type: 'application/binary'});\n",
              "      const a = document.createElement('a');\n",
              "      a.href = window.URL.createObjectURL(blob);\n",
              "      a.download = filename;\n",
              "      div.appendChild(a);\n",
              "      a.click();\n",
              "      div.remove();\n",
              "    }\n",
              "  "
            ]
          },
          "metadata": {}
        },
        {
          "output_type": "display_data",
          "data": {
            "text/plain": [
              "<IPython.core.display.Javascript object>"
            ],
            "application/javascript": [
              "download(\"download_0306858c-6947-44fe-a5fe-4a2e9c4d2ccf\", \"metrics_total.csv\", 768)"
            ]
          },
          "metadata": {}
        }
      ]
    },
    {
      "cell_type": "markdown",
      "source": [
        "Статистично значущою є тільки одна метрика — new_account (p = 0.029), що менше 0,05.\n",
        "\n",
        "Кореляція між контрольними та тестовими конверсіями дуже сильна (метрики стабільні).\n",
        "\n",
        "Зміни в метриках мають сильну лінійну залежність від z-статистики."
      ],
      "metadata": {
        "id": "t0BnNhCw7D82"
      }
    },
    {
      "cell_type": "markdown",
      "source": [
        "[статистичний дешборд](https://public.tableau.com/app/profile/olena.polivoda/viz/statisticalsignificance/statsignificance?publish=yes)"
      ],
      "metadata": {
        "id": "KfXeFtsr62g-"
      }
    },
    {
      "cell_type": "code",
      "source": [],
      "metadata": {
        "id": "G9Eyvmyg6bV9"
      },
      "execution_count": null,
      "outputs": []
    }
  ]
}